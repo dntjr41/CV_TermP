{
  "cells": [
    {
      "cell_type": "markdown",
      "metadata": {
        "id": "view-in-github",
        "colab_type": "text"
      },
      "source": [
        "<a href=\"https://colab.research.google.com/github/dntjr41/CV_TermP/blob/main/cv_test.ipynb\" target=\"_parent\"><img src=\"https://colab.research.google.com/assets/colab-badge.svg\" alt=\"Open In Colab\"/></a>"
      ]
    },
    {
      "cell_type": "markdown",
      "metadata": {
        "id": "Vdkv0kLjHYu3"
      },
      "source": [
        "# 드라이브 마운트"
      ]
    },
    {
      "cell_type": "code",
      "execution_count": 1,
      "metadata": {
        "id": "cPUS5g9Z421E",
        "colab": {
          "base_uri": "https://localhost:8080/"
        },
        "outputId": "d9da2948-ffb8-4a3e-c6dd-eda486b4f3a1"
      },
      "outputs": [
        {
          "output_type": "stream",
          "name": "stdout",
          "text": [
            "Mounted at /content/drive\n"
          ]
        }
      ],
      "source": [
        "from google.colab import drive\n",
        "drive.mount('/content/drive', force_remount=True)"
      ]
    },
    {
      "cell_type": "markdown",
      "metadata": {
        "id": "8V3BKwj8HL3s"
      },
      "source": [
        "# 경로 지정\n"
      ]
    },
    {
      "cell_type": "code",
      "execution_count": 2,
      "metadata": {
        "colab": {
          "base_uri": "https://localhost:8080/"
        },
        "id": "2GPZY2EsHf5X",
        "outputId": "9473a6a5-3925-4a5f-d065-d050ef7bbdc1"
      },
      "outputs": [
        {
          "output_type": "stream",
          "name": "stdout",
          "text": [
            "/content/drive/.shortcut-targets-by-id/1LsCIteVVv6MH-JZv-0kWJqiwaLiL4Wve/test\n",
            "/content/drive/.shortcut-targets-by-id/1LsCIteVVv6MH-JZv-0kWJqiwaLiL4Wve/test\n",
            "ls: checkpoints: No such file or directory\n",
            "total 1843438\n",
            "lrw------- 1 root root          0 May 26 07:52 checkpoints -> /content/drive/.shortcut-targets-by-id/1Tid_ajRBA0Qh7gxf9PYaiulAM9rXKl2h/checkpoints\n",
            "-rw------- 1 root root       7550 May 27 13:02 cv_project.ipynb\n",
            "drwx------ 2 root root       4096 May 26 05:39 data\n",
            "drwx------ 2 root root       4096 May 26 05:36 model\n",
            "-rw------- 1 root root 1771970891 May 26 05:33 model-epoch-1-losses-0.01438.pth\n",
            "drwx------ 2 root root       4096 May 26 09:00 outputs\n",
            "-rw------- 1 root root  115689009 May 23 12:55 test_dataset.zip\n"
          ]
        }
      ],
      "source": [
        "%cd drive/My\\ Drive/test\n",
        "!pwd\n",
        "!ls -la"
      ]
    },
    {
      "cell_type": "markdown",
      "metadata": {
        "id": "d-aoW_cLHMxK"
      },
      "source": [
        "# 압축 풀기"
      ]
    },
    {
      "cell_type": "code",
      "execution_count": 3,
      "metadata": {
        "id": "ZCZZIgQ7GGAS"
      },
      "outputs": [],
      "source": [
        "import tqdm\n",
        "import zipfile\n",
        "import os\n",
        "import glob\n",
        "\n",
        "# 압축 풀기\n",
        "file_name = 'test_dataset'\n",
        "!unzip -qq '{file_name}'\n",
        "\n"
      ]
    },
    {
      "cell_type": "markdown",
      "metadata": {
        "id": "OKbOZp8_DeC3"
      },
      "source": [
        "# Test & Predict"
      ]
    },
    {
      "cell_type": "code",
      "execution_count": null,
      "metadata": {
        "colab": {
          "base_uri": "https://localhost:8080/"
        },
        "id": "6O4g_L2UQEEL",
        "outputId": "78dc98a1-b350-4c44-f0de-9e2e27a54830"
      },
      "outputs": [
        {
          "output_type": "stream",
          "name": "stdout",
          "text": [
            "device 0 : Tesla T4\n",
            "test dataset:  1000\n"
          ]
        }
      ],
      "source": [
        "from data.dataset import ColorHintDataset\n",
        "import torch\n",
        "import torch.utils.data as data\n",
        "import cv2\n",
        "import tqdm\n",
        "import os\n",
        "from data.dataset import tensor2im\n",
        "from model.att_unet.att_unet import Unet\n",
        "from model.att_unet.att_unet_3 import Unet3\n",
        "import matplotlib.pyplot as plt\n",
        "from google.colab.patches import cv2_imshow\n",
        "\n",
        "device = \"cpu\"\n",
        "if torch.cuda.is_available():\n",
        "  device = \"cuda:0\"\n",
        "  print('device 0 :', torch.cuda.get_device_name(0))\n",
        "  \n",
        "def main():\n",
        "    # Change to your data root directory\n",
        "    root_path = \"./test_dataset\"\n",
        "\n",
        "    # Depend on runtime setting\n",
        "    use_cuda = True\n",
        "\n",
        "    test_dataset = ColorHintDataset(root_path, 256, 'test')\n",
        "\n",
        "    dataloaders = {}\n",
        "    dataloaders['test'] = torch.utils.data.DataLoader(test_dataset, batch_size = 1, shuffle=False)\n",
        "    print('test dataset: ', len(test_dataset))\n",
        "\n",
        "\n",
        "    # state_dict = torch.load(check_point)\n",
        "    model = Unet().to(device)\n",
        "\n",
        "    model.load_state_dict(torch.load('./checkpoints/model-epoch-1-losses-0.00685.pth'))\n",
        "\n",
        "    os.makedirs('./outputs', exist_ok=True)\n",
        "    os.makedirs('./outputs/test', exist_ok=True)\n",
        "\n",
        "    model.eval()\n",
        "    with torch.no_grad():\n",
        "      for i, data in enumerate(tqdm.tqdm(dataloaders['test'])):\n",
        "          if use_cuda:\n",
        "              l = data[\"l\"].to(device)\n",
        "              hint = data[\"hint\"].to(device)\n",
        "              file_name = data[\"file_name\"][0]\n",
        "\n",
        "          hint_image = torch.cat((l, hint), dim=1)\n",
        "          hint_np = tensor2im(hint_image)\n",
        "          hint_image = hint_image.float().to(device)\n",
        "\n",
        "          output = model(hint_image).squeeze(1)\n",
        "          output = torch.cat((l, output), dim = 1)\n",
        "          out_hint_np = tensor2im(output)\n",
        "\n",
        "          hint_bgr = cv2.cvtColor(hint_np, cv2.COLOR_LAB2BGR)\n",
        "          out_hint_bgr = cv2.cvtColor(out_hint_np, cv2.COLOR_LAB2BGR)\n",
        "\n",
        "          fname = str(file_name).replace(\"['\", '')\n",
        "          fname = fname.replace(\"']\", '')\n",
        "\n",
        "          cv2.imwrite(\"./outputs/test/\"+fname, out_hint_bgr)\n",
        "\n",
        "if __name__ == '__main__':\n",
        "    main()"
      ]
    }
  ],
  "metadata": {
    "accelerator": "GPU",
    "colab": {
      "collapsed_sections": [
        "Qr3vTEC-SHGt"
      ],
      "machine_shape": "hm",
      "name": "cv_project.ipynb",
      "provenance": [],
      "include_colab_link": true
    },
    "kernelspec": {
      "display_name": "Python 3",
      "name": "python3"
    },
    "language_info": {
      "name": "python"
    }
  },
  "nbformat": 4,
  "nbformat_minor": 0
}